{
 "cells": [
  {
   "cell_type": "code",
   "execution_count": null,
   "metadata": {
    "collapsed": true
   },
   "outputs": [],
   "source": [
    "import numpy as np\n",
    "import RungeKutta as rk\n",
    "import pylab as plt\n",
    "from scipy.integrate import odeint\n",
    "import turtle\n",
    "%matplotlib inline\n",
    "\n",
    "\n",
    "styles = [\"-k\", \"-o\", \"-.b\", \"-.y\"]\n",
    "\n",
    "\n",
    "def lorenzHAMApprox (r, t, r0, sigma, rho, beta, h):\n",
    "    x, y, z = r\n",
    "    x0, y0, z0 = r0\n",
    "    \n",
    "    fx = x0 - sigma * t (1 + h)\n",
    "    fy = y0 - t * [1 + h (rho - 1)]\n",
    "    fz = z0 - t * (beta + h)\n",
    "    return np.array ([fx, fy, fz], float)\n",
    "\n",
    "def lorenz (r, t, state):\n",
    "    x, y, z = r\n",
    "    sigma, rho, beta = state\n",
    "    \n",
    "    fx = sigma * (y - x)\n",
    "    fy = x * (rho - z) - y\n",
    "    fz = x * y - beta * z\n",
    "    \n",
    "    return np.array ([fx, fy, fz], float)\n",
    "\n",
    "def lorenzSolution (r0, interval, steps, state):\n",
    "    numIndepVars = 3\n",
    "    return rk.vectorRungeKutta (lorenz, numIndepVars, r0, interval, steps, state, order = 4)"
   ]
  },
  {
   "cell_type": "code",
   "execution_count": null,
   "metadata": {
    "collapsed": true
   },
   "outputs": [],
   "source": [
    "if \"__main__\" == __name__:\n",
    "    \n",
    "    window = turtle.Screen ()\n",
    "    lorenzTurtle = turtle.Turtle ()\n",
    "    turtle.exitonclick ()\n",
    "    \n",
    "    sigma = 10.0\n",
    "    rho = 28\n",
    "    beta = 8.0 / 3.0\n",
    "    r0 = (0, 1, 0)\n",
    "\n",
    "    interval = (0, 50)\n",
    "    steps = 10000\n",
    "    state = (sigma, rho, beta)\n",
    "    solution = lorenzSolution (r0, interval, steps, state)\n",
    "    xValues = solution[:,1]\n",
    "    zValues = solution[:,3]\n",
    "    \n",
    "    #set initial position\n",
    "\n",
    "    for i in range (len (xValues)):\n",
    "        lorenzTurtle.goto (xValues[i], zValues[i])\n",
    "    \n"
   ]
  },
  {
   "cell_type": "code",
   "execution_count": null,
   "metadata": {
    "collapsed": true
   },
   "outputs": [],
   "source": []
  }
 ],
 "metadata": {
  "kernelspec": {
   "display_name": "Python 3",
   "language": "python",
   "name": "python3"
  },
  "language_info": {
   "codemirror_mode": {
    "name": "ipython",
    "version": 3
   },
   "file_extension": ".py",
   "mimetype": "text/x-python",
   "name": "python",
   "nbconvert_exporter": "python",
   "pygments_lexer": "ipython3",
   "version": "3.6.3"
  }
 },
 "nbformat": 4,
 "nbformat_minor": 2
}
