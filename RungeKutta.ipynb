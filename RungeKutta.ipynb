{
 "cells": [
  {
   "cell_type": "code",
   "execution_count": 1,
   "metadata": {
    "collapsed": true
   },
   "outputs": [],
   "source": [
    "import numpy as np"
   ]
  },
  {
   "cell_type": "code",
   "execution_count": 62,
   "metadata": {
    "collapsed": true
   },
   "outputs": [],
   "source": [
    "def vectorRungeKutta (func, dimension, r0, interval, numSteps, *args, order=1, bVerbose=False):\n",
    "    \"\"\"\n",
    "    Description: returns the Runge-Kutta solution to the given vector\n",
    "    \n",
    "    Parameters: func - function with parameters (vector, float, *args) for\n",
    "                        an ODE of the form r' = f (r, t, *args)\n",
    "                dimension - dimension of vector r\n",
    "                r0 - initial condition for vector r \n",
    "                interval - domain of solution\n",
    "                numSteps - number of steps\n",
    "                *args - additional arguments for func\n",
    "                order - 1 for first order Runge-Kutta (Euler method)\n",
    "                        2 for second order Runge-Kutta\n",
    "                        4 for fourth order Runge-Kutta\n",
    "                        \n",
    "    Returned: (t, r_1, ..., r_dimension), as (numSteps + 1)x(dimension + 1) \n",
    "                numpy array.\n",
    "    \"\"\"\n",
    "    \n",
    "    #set interval and step size\n",
    "    a, b = interval\n",
    "    h = (b - a) / numSteps\n",
    "    \n",
    "    #initialize results as zero\n",
    "    solution = np.zeros ((numSteps + 1, dimension + 1))\n",
    "    \n",
    "    #solve first case\n",
    "    r = r0\n",
    "    t = a\n",
    "    solution[0,0] = t\n",
    "    solution[0,1:] = r\n",
    "    \n",
    "    #solve each case\n",
    "    for i in range (1, numSteps + 1):\n",
    "\n",
    "        #first order Runge-Kutta (Euler method)\n",
    "        if 1 == order:\n",
    "            r += h * func (r, t, *args)\n",
    "            \n",
    "        #second order Runge-Kutta\n",
    "        elif 2 == order:\n",
    "            k1 = h * func (r, t, *args)\n",
    "            k2 = h * func (r + 0.5 * k1, t + 0.5 * h, *args)\n",
    "            r += k2\n",
    "            \n",
    "        #fourth order Runge-Kutta\n",
    "        elif 4 == order:\n",
    "            k1 = h * func (r, t, *args)\n",
    "            k2 = h * func (r + 0.5 * k1, t + 0.5 * h, *args)\n",
    "            k3 = h * func (r + 0.5 * k2, t + 0.5 * h, *args)\n",
    "            k4 = h * func (r + k3, t + h, *args)\n",
    "            r += (k1 + 2 * k2 + 2 * k3 + k4) / 6\n",
    "        \n",
    "        #increment time\n",
    "        t += h\n",
    "        \n",
    "        if bVerbose:\n",
    "            print (\"step: {}, t: {}, r: {}\".format (i, t, r))\n",
    "        \n",
    "        #add new solution values\n",
    "        solution[i,0] = t\n",
    "        solution[i,1:] = r\n",
    "    \n",
    "    return solution"
   ]
  }
 ],
 "metadata": {
  "kernelspec": {
   "display_name": "Python 3",
   "language": "python",
   "name": "python3"
  },
  "language_info": {
   "codemirror_mode": {
    "name": "ipython",
    "version": 3
   },
   "file_extension": ".py",
   "mimetype": "text/x-python",
   "name": "python",
   "nbconvert_exporter": "python",
   "pygments_lexer": "ipython3",
   "version": "3.6.3"
  }
 },
 "nbformat": 4,
 "nbformat_minor": 1
}
