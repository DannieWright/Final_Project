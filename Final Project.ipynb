{
 "cells": [
  {
   "cell_type": "markdown",
   "metadata": {},
   "source": [
    "The primary focus of this project is to show a numerical solution to the Lorenz equations, which is a set of differential equations that helped to evolve the study of deterministic chaos [3]. To help introduce "
   ]
  },
  {
   "cell_type": "markdown",
   "metadata": {},
   "source": [
    "**References:**\n",
    "\n",
    "[1] Newman  \n",
    "[2] Giordano  \n",
    "[3] Muthuramalingam, Rasi. (2013). ANALYTICAL SOLUTION OF LORENZ EQUATION USING HOMOTOPY ANALYSIS METHOD. \n",
    "Journal of Global Research in Mathematical Archives. 1. 14. \n",
    "https://www.researchgate.net/publication/273641652_ANALYTICAL_SOLUTION_OF_LORENZ_EQUATION_USING_HOMOTOPY_ANALYSIS_METHOD  \n"
   ]
  },
  {
   "cell_type": "code",
   "execution_count": 2,
   "metadata": {
    "collapsed": true
   },
   "outputs": [],
   "source": [
    "import numpy as np\n",
    "import RungeKutta as rk\n",
    "import pylab as plt\n",
    "from scipy.integrate import odeint\n",
    "%matplotlib inline"
   ]
  },
  {
   "cell_type": "code",
   "execution_count": 3,
   "metadata": {
    "collapsed": true
   },
   "outputs": [],
   "source": [
    "def lorenzHAMApprox (r, t, r0, sigma, rho, beta, h):\n",
    "    x, y, z = r\n",
    "    x0, y0, z0 = r0\n",
    "    \n",
    "    fx = x0 - sigma * t (1 + h)\n",
    "    fy = y0 - t * [1 + h (rho - 1)]\n",
    "    fz = z0 - t * (beta + h)\n",
    "    return np.array ([fx, fy, fz], float)\n",
    "\n",
    "def lorenz (r, t, state):\n",
    "    x, y, z = r\n",
    "    sigma, rho, beta = state\n",
    "    \n",
    "    fx = sigma * (y - x)\n",
    "    fy = x * (rho - z) - y\n",
    "    fz = x * y - beta * z\n",
    "    \n",
    "    return np.array ([fx, fy, fz], float)\n",
    "\n",
    "def lorenz2 (t, r, state):\n",
    "    x, y, z = r\n",
    "    sigma, rho, beta = state\n",
    "    \n",
    "    fx = sigma * (y - x)\n",
    "    fy = x * (rho - z) - y\n",
    "    fz = x * y - beta * z\n",
    "    \n",
    "    return np.array ([fx, fy, fz], float)\n",
    "\n",
    "\n",
    "def lorenz3 (r, t):\n",
    "    x, y, z = r\n",
    "    sigma = 10\n",
    "    rho = 28\n",
    "    beta = 8 / 3\n",
    "    \n",
    "    fx = sigma * (y - x)\n",
    "    fy = x * (rho - z) - y\n",
    "    fz = x * y - beta * z\n",
    "    return np.array ([fx, fy, fz], float)  # derivatives\n",
    "\n",
    "\n",
    "\n",
    "def solve_coupled(f,n,r0,interval,steps,*args,order=1):\n",
    "    \"\"\" Solve system of coupled ODEs by Euler or Runge-Kutta methods,\n",
    "    with fixed number of steps.\n",
    "\n",
    "    f: vector function giving ODE as r'=f(t,r)\n",
    "       Should return numpy array, so array arithmetic works.\n",
    "       Note opposite argument order to Newman.\n",
    "       We put independent variable first.\n",
    "    n: number of spatial dimensions (i.e., dependent variables)\n",
    "    r0: vector initial value\n",
    "    interval: tuple region (a,b) on which to solve ODE\n",
    "    steps: number of steps\n",
    "    order: order of solution method (1 for Euler, 2 or 4 for Runge-Kutta) \n",
    "    \n",
    "    Returns points (t,r1,...,rn), as (steps+1)x(n+1) numpy array.\n",
    "    \"\"\"\n",
    "\n",
    "    # set up solution mesh\n",
    "    # points will be indexed 0..steps\n",
    "    (a,b) = interval  # endpoints\n",
    "    h = (b-a)/steps  # step size\n",
    "    points = np.zeros((steps+1,n+1))\n",
    "\n",
    "    # set up initial point\n",
    "    t = a    # current point t value\n",
    "    r = r0   # current point r value\n",
    "    points[0,0] = t\n",
    "    points[0,1:] = r\n",
    "    ## # alternatively:\n",
    "    ## for i in range(n):\n",
    "    ##     points[0,i+1] = r[i]\n",
    "\n",
    "    for i in range(1,steps+1):\n",
    "\n",
    "        # evaluate new point\n",
    "        t_new = t + h\n",
    "        if (order == 1):\n",
    "            # Euler\n",
    "            r_new = r + h * f(t,r,*args)\n",
    "        elif (order == 2):\n",
    "            # second-order Runge-Kutta\n",
    "            # Newman (8.13)\n",
    "            k1 = h * f(t,r,*args)\n",
    "            k2 = h * f(t+1/2*h,r+1/2*k1,*args)\n",
    "            r_new = r + k2\n",
    "        elif (order == 4):\n",
    "            # fourth-order Runge-Kutta\n",
    "            # Newman (8.17)\n",
    "            k1 = h * f(t,r,*args)\n",
    "            k2 = h * f(t+1/2*h,r+1/2*k1,*args)\n",
    "            k3 = h * f(t+1/2*h,r+1/2*k2,*args)\n",
    "            k4 = h * f(t+h,r+k3,*args)\n",
    "            r_new = r + 1/6*(k1+2*k2+2*k3+k4)\n",
    "\n",
    "        # save new point\n",
    "        (t,r) = (t_new,r_new)\n",
    "        points[i,0] = t\n",
    "        points[i,1:] = r\n",
    "\n",
    "    return points"
   ]
  },
  {
   "cell_type": "code",
   "execution_count": 24,
   "metadata": {},
   "outputs": [
    {
     "name": "stdout",
     "output_type": "stream",
     "text": [
      "[[  0.00000000e+00   1.00000000e+00   1.00000000e+00   1.00000000e+00]\n",
      " [  5.00000000e+00  -1.00902733e+07  -5.01042648e+10   9.22488626e+10]\n",
      " [  1.00000000e+01   1.76606908e+52  -1.89792639e+83   3.49434583e+83]\n",
      " [  1.50000000e+01              inf              nan              nan]\n",
      " [  2.00000000e+01              nan              nan              nan]\n",
      " [  2.50000000e+01              nan              nan              nan]\n",
      " [  3.00000000e+01              nan              nan              nan]\n",
      " [  3.50000000e+01              nan              nan              nan]\n",
      " [  4.00000000e+01              nan              nan              nan]\n",
      " [  4.50000000e+01              nan              nan              nan]\n",
      " [  5.00000000e+01              nan              nan              nan]]\n",
      "[[  0.00000000e+00   1.00000000e+00   1.00000000e+00   1.00000000e+00]\n",
      " [  5.00000000e+00  -1.00902733e+07  -5.01042648e+10   9.22488626e+10]\n",
      " [  1.00000000e+01   1.76606908e+52  -1.89792639e+83   3.49434583e+83]\n",
      " [  1.50000000e+01              inf              nan              nan]\n",
      " [  2.00000000e+01              nan              nan              nan]\n",
      " [  2.50000000e+01              nan              nan              nan]\n",
      " [  3.00000000e+01              nan              nan              nan]\n",
      " [  3.50000000e+01              nan              nan              nan]\n",
      " [  4.00000000e+01              nan              nan              nan]\n",
      " [  4.50000000e+01              nan              nan              nan]\n",
      " [  5.00000000e+01              nan              nan              nan]]\n",
      "[[  1.00000000e+000   1.00000000e+000   1.00000000e+000]\n",
      " [ -9.80910842e+000  -1.12716243e+001   2.67616277e+001]\n",
      " [  2.45053043e+025   3.07059671e-057   3.72989872e+020]\n",
      " [  6.38136852e-067   1.47763641e+248   1.16096346e-028]\n",
      " [  7.69165785e+218   1.35617292e+248   5.13731778e-062]\n",
      " [  1.58901731e-047   2.92607839e+025   3.12303340e-033]\n",
      " [  4.25765019e-096   6.32299154e+233   6.48224638e+170]\n",
      " [  5.22411352e+257   5.74020278e+180   8.37174974e-144]\n",
      " [  1.41529402e+161   9.16651763e-072   3.45944509e+097]\n",
      " [  3.22240662e-057   2.74483915e+126   8.70018433e-313]]\n"
     ]
    },
    {
     "name": "stderr",
     "output_type": "stream",
     "text": [
      "C:\\Users\\Unknown\\Anaconda3\\lib\\site-packages\\ipykernel_launcher.py:15: RuntimeWarning: overflow encountered in double_scalars\n",
      "  from ipykernel import kernelapp as app\n",
      "C:\\Users\\Unknown\\Anaconda3\\lib\\site-packages\\ipykernel_launcher.py:16: RuntimeWarning: overflow encountered in double_scalars\n",
      "  app.launch_new_instance()\n",
      "C:\\Users\\Unknown\\Anaconda3\\lib\\site-packages\\ipykernel_launcher.py:15: RuntimeWarning: invalid value encountered in double_scalars\n",
      "  from ipykernel import kernelapp as app\n",
      "C:\\Users\\Unknown\\Documents\\GitHub\\Dannie\\Computational\\Final_Project\\RungeKutta.py:64: RuntimeWarning: invalid value encountered in add\n",
      "  r += (k1 + 2 * k2 + 2 * k3 + k4) / 6\n",
      "C:\\Users\\Unknown\\Anaconda3\\lib\\site-packages\\ipykernel_launcher.py:25: RuntimeWarning: overflow encountered in double_scalars\n",
      "C:\\Users\\Unknown\\Anaconda3\\lib\\site-packages\\ipykernel_launcher.py:26: RuntimeWarning: overflow encountered in double_scalars\n",
      "C:\\Users\\Unknown\\Anaconda3\\lib\\site-packages\\ipykernel_launcher.py:25: RuntimeWarning: invalid value encountered in double_scalars\n",
      "C:\\Users\\Unknown\\Anaconda3\\lib\\site-packages\\ipykernel_launcher.py:96: RuntimeWarning: invalid value encountered in add\n",
      "C:\\Users\\Unknown\\Anaconda3\\lib\\site-packages\\scipy\\integrate\\odepack.py:218: ODEintWarning: Excess work done on this call (perhaps wrong Dfun type). Run with full_output = 1 to get quantitative information.\n",
      "  warnings.warn(warning_msg, ODEintWarning)\n"
     ]
    }
   ],
   "source": [
    "if __name__ == \"__main__\":\n",
    "    sigma = 10\n",
    "    rho = 28\n",
    "    beta = 8 / 3\n",
    "    state = (sigma, rho, beta)\n",
    "    \n",
    "    r0 = (1, 1, 1)\n",
    "    \n",
    "    interval = (0, 50)\n",
    "    steps = 10\n",
    "    order = 4\n",
    "    numIndepVars = 3\n",
    "    t = np.arange (interval[0], interval[1], interval[1] / steps)\n",
    "    \n",
    "    solution = rk.vectorRungeKutta (lorenz, numIndepVars, r0, interval, steps, state, order = 4)\n",
    "    solution2 = solve_coupled (lorenz2, numIndepVars, r0, interval, steps, state, order = 4)\n",
    "    solution3 = odeint (lorenz3, r0, t)\n",
    "    \n",
    "    print (solution)\n",
    "    print (solution2)\n",
    "    print (solution3)\n",
    "    \n",
    "\n",
    "    "
   ]
  },
  {
   "cell_type": "code",
   "execution_count": 9,
   "metadata": {
    "collapsed": true
   },
   "outputs": [],
   "source": [
    "def nonlinearOscillator (r, t, g, l, F_f, F_d, omega_d):\n",
    "    omega, theta = r\n",
    "    \n",
    "    fomega = -g /l * np.sin (theta) - F_f * omega + F_d * np.sin (omega_d * t)\n",
    "    ftheta = omega\n",
    "    \n",
    "    return np.array ([fomega, ftheta], float)"
   ]
  },
  {
   "cell_type": "code",
   "execution_count": 51,
   "metadata": {},
   "outputs": [
    {
     "data": {
      "image/png": "[encoded data removed]",
      "text/plain": [
       "<matplotlib.figure.Figure at 0x1c25203f9e8>"
      ]
     },
     "metadata": {},
     "output_type": "display_data"
    }
   ],
   "source": [
    "if \"__main__\" == __name__:\n",
    "    r0 = (0, 0.2) #omega, theta\n",
    "    \n",
    "    interval = (0, 60)\n",
    "    steps = 1000\n",
    "    order = 4\n",
    "    numIndepVars = 2\n",
    "    \n",
    "    g = 9.8\n",
    "    l = 9.8\n",
    "    F_f = 0.5\n",
    "    F_d = 0.5\n",
    "    omega_d = 2/3\n",
    "    \n",
    "    solution = rk.vectorRungeKutta (nonlinearOscillator, numIndepVars, r0, interval, steps, g, l, F_f, F_d, omega_d, order = 4)\n",
    "    r0 = (0, 0.21)\n",
    "    solution2 = rk.vectorRungeKutta (nonlinearOscillator, numIndepVars, r0, interval, steps, g, l, F_f, F_d, omega_d, order = 4)\n",
    "    \n",
    "    diff = solution2[:,2] - solution[:,2]\n",
    "    \n",
    "    #set up plot\n",
    "    plt.figure(figsize=(8, 8))\n",
    "    ax = plt.subplot(111)\n",
    "    ax.set_xlabel(\"Time (s)\")\n",
    "    ax.set_ylabel(\"Angle (rads)\")\n",
    "\n",
    "    #plt.plot(solution[:,0],solution2[:,2], \"--k\", label = \"theta2\")\n",
    "    #plt.plot(solution[:,0],solution[:,2], \"-y\", label = \"theta\")\n",
    "    plt.plot(solution[:,0], diff, \"-y\", label = \"theta diff\")\n",
    "    \n",
    "    plt.legend()\n",
    "    plt.show ()"
   ]
  },
  {
   "cell_type": "code",
   "execution_count": null,
   "metadata": {
    "collapsed": true
   },
   "outputs": [],
   "source": []
  }
 ],
 "metadata": {
  "kernelspec": {
   "display_name": "Python 3",
   "language": "python",
   "name": "python3"
  },
  "language_info": {
   "codemirror_mode": {
    "name": "ipython",
    "version": 3
   },
   "file_extension": ".py",
   "mimetype": "text/x-python",
   "name": "python",
   "nbconvert_exporter": "python",
   "pygments_lexer": "ipython3",
   "version": "3.6.3"
  }
 },
 "nbformat": 4,
 "nbformat_minor": 2
}
